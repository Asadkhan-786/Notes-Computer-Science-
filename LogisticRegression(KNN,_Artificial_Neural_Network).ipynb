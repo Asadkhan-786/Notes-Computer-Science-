{
  "nbformat": 4,
  "nbformat_minor": 5,
  "metadata": {
    "kernelspec": {
      "display_name": "Python 3",
      "language": "python",
      "name": "python3"
    },
    "language_info": {
      "codemirror_mode": {
        "name": "ipython",
        "version": 3
      },
      "file_extension": ".py",
      "mimetype": "text/x-python",
      "name": "python",
      "nbconvert_exporter": "python",
      "pygments_lexer": "ipython3",
      "version": "3.8.8"
    },
    "colab": {
      "name": "LogisticRegression(KNN, Artificial Neural Network).ipynb",
      "provenance": [],
      "collapsed_sections": [],
      "include_colab_link": true
    }
  },
  "cells": [
    {
      "cell_type": "markdown",
      "metadata": {
        "id": "view-in-github",
        "colab_type": "text"
      },
      "source": [
        "<a href=\"https://colab.research.google.com/github/Asadkhan-786/Notes-Computer-Science-/blob/Machine-Learning/LogisticRegression(KNN%2C_Artificial_Neural_Network).ipynb\" target=\"_parent\"><img src=\"https://colab.research.google.com/assets/colab-badge.svg\" alt=\"Open In Colab\"/></a>"
      ]
    },
    {
      "cell_type": "code",
      "metadata": {
        "id": "7bdc4a62-3aa6-4360-a250-536fd1d43ea3",
        "colab": {
          "base_uri": "https://localhost:8080/"
        },
        "outputId": "6d8b295c-1649-4ca0-c866-7c70ae91f915"
      },
      "source": [
        "# Usual Suspects\n",
        "import numpy as np\n",
        "import pandas as pd\n",
        "import matplotlib.pyplot as plt\n",
        "from matplotlib.pyplot import bar\n",
        "# sklearn stuff\n",
        "from sklearn.metrics import r2_score\n",
        "from sklearn.model_selection import train_test_split\n",
        "from sklearn.feature_selection import SelectKBest\n",
        "from sklearn.feature_selection import chi2\n",
        "from sklearn.linear_model import LogisticRegression\n",
        "from sklearn.metrics import mean_absolute_error\n",
        "# SM stuff\n",
        "import statsmodels.api as sm\n",
        "import statsmodels.formula.api as smf"
      ],
      "id": "7bdc4a62-3aa6-4360-a250-536fd1d43ea3",
      "execution_count": 1,
      "outputs": [
        {
          "output_type": "stream",
          "name": "stderr",
          "text": [
            "/usr/local/lib/python3.7/dist-packages/statsmodels/tools/_testing.py:19: FutureWarning: pandas.util.testing is deprecated. Use the functions in the public API at pandas.testing instead.\n",
            "  import pandas.util.testing as tm\n"
          ]
        }
      ]
    },
    {
      "cell_type": "markdown",
      "metadata": {
        "id": "7cfbbf96-28b1-4019-8c93-22c8c4ac3264"
      },
      "source": [
        "## Supervised Learning: Classification\n",
        "### Method: Logistic Regression\n",
        "Logistic Regression is one of the most commonly used for ML methods for predictive analytics and modeling, where the dependent variable is finite or categorical, e.g.\n",
        " * either A or B (binary regression) or \n",
        " * a range of finite options A, B, C or D (multinomial regression) <br>\n",
        "\n",
        "<b> Application Examples </b>\n",
        "* (Medicine) To predict the likelihood of disease or illness for a given population, which means that preventative care can be put in place. \n",
        "* (Businesses) To uncover patterns that lead to higher employee retention or create more profitable products by analyzing buyer behavior. \n",
        "* (Banking) Loan default prediction. Credit risk assessment.\n",
        "* (Sports Betting) Sport result prediction, e.g. team-A wins, team-B wins, draw"
      ],
      "id": "7cfbbf96-28b1-4019-8c93-22c8c4ac3264"
    },
    {
      "cell_type": "code",
      "metadata": {
        "id": "d100e13d-26a6-40f4-8934-97cf9e6a2f8c"
      },
      "source": [
        "# let's look at these \\ell and p functions\n",
        "p_x = np.arange(0.0001,0.999999999,0.0001)\n",
        "r_y = [np.log(i/(1-i)) for i in p_x]\n",
        "plt.scatter(p_x,r_y)\n",
        "plt.xlabel('p');\n",
        "plt.ylabel('$\\ell$');"
      ],
      "id": "d100e13d-26a6-40f4-8934-97cf9e6a2f8c",
      "execution_count": null,
      "outputs": []
    },
    {
      "cell_type": "code",
      "metadata": {
        "id": "01fe0306-3cb9-4c48-8f32-e96483aab076"
      },
      "source": [
        "x = np.arange(-10,10,0.001)\n",
        "y = [np.exp(i)/(1+np.exp(i)) for i in x]\n",
        "plt.plot(x,y)\n",
        "plt.xlabel('a')\n",
        "plt.ylabel('p')"
      ],
      "id": "01fe0306-3cb9-4c48-8f32-e96483aab076",
      "execution_count": null,
      "outputs": []
    },
    {
      "cell_type": "markdown",
      "metadata": {
        "id": "4990c9f7-122e-47ed-9798-b467a25df43f"
      },
      "source": [
        "## A Simple Example\n",
        "* Lets say we are an individual applying for a loan in an Icelandic bank and want to know the probability of our creditscore getting us a loan at the bank. \n",
        "* We have our individual credit scores and their categorical binary value.\n",
        "* Data for each applicant:\n",
        "  * x-axis: Icelandic credit score points ranging 100(bad credit score) to 400(excellent)\n",
        "  * y-axis: Approved as 1 or 0"
      ],
      "id": "4990c9f7-122e-47ed-9798-b467a25df43f"
    },
    {
      "cell_type": "code",
      "metadata": {
        "id": "7147a936-8966-4dba-8ac4-8f88612e1a22",
        "colab": {
          "base_uri": "https://localhost:8080/",
          "height": 206
        },
        "outputId": "f912689f-18bc-4055-d6d0-35d0319edd28"
      },
      "source": [
        "# Read the data in\n",
        "df = pd.read_csv(\"/content/loans.csv\")\n",
        "df.tail()"
      ],
      "id": "7147a936-8966-4dba-8ac4-8f88612e1a22",
      "execution_count": 4,
      "outputs": [
        {
          "output_type": "execute_result",
          "data": {
            "text/plain": [
              "       accepted  creditscore    amount  age  marital  health_ins creditgrade\n",
              "14995         1          101    990461   37        1           1           E\n",
              "14996         1          139  10543269   52        1           1           E\n",
              "14997         1          185   9827416   77        1           1           E\n",
              "14998         1          235   2279692   35        0           1           E\n",
              "14999         1          192   2814084   22        1           1           E"
            ],
            "text/html": [
              "\n",
              "  <div id=\"df-2b1855e4-407b-48a5-84dd-ff86f1edfeb0\">\n",
              "    <div class=\"colab-df-container\">\n",
              "      <div>\n",
              "<style scoped>\n",
              "    .dataframe tbody tr th:only-of-type {\n",
              "        vertical-align: middle;\n",
              "    }\n",
              "\n",
              "    .dataframe tbody tr th {\n",
              "        vertical-align: top;\n",
              "    }\n",
              "\n",
              "    .dataframe thead th {\n",
              "        text-align: right;\n",
              "    }\n",
              "</style>\n",
              "<table border=\"1\" class=\"dataframe\">\n",
              "  <thead>\n",
              "    <tr style=\"text-align: right;\">\n",
              "      <th></th>\n",
              "      <th>accepted</th>\n",
              "      <th>creditscore</th>\n",
              "      <th>amount</th>\n",
              "      <th>age</th>\n",
              "      <th>marital</th>\n",
              "      <th>health_ins</th>\n",
              "      <th>creditgrade</th>\n",
              "    </tr>\n",
              "  </thead>\n",
              "  <tbody>\n",
              "    <tr>\n",
              "      <th>14995</th>\n",
              "      <td>1</td>\n",
              "      <td>101</td>\n",
              "      <td>990461</td>\n",
              "      <td>37</td>\n",
              "      <td>1</td>\n",
              "      <td>1</td>\n",
              "      <td>E</td>\n",
              "    </tr>\n",
              "    <tr>\n",
              "      <th>14996</th>\n",
              "      <td>1</td>\n",
              "      <td>139</td>\n",
              "      <td>10543269</td>\n",
              "      <td>52</td>\n",
              "      <td>1</td>\n",
              "      <td>1</td>\n",
              "      <td>E</td>\n",
              "    </tr>\n",
              "    <tr>\n",
              "      <th>14997</th>\n",
              "      <td>1</td>\n",
              "      <td>185</td>\n",
              "      <td>9827416</td>\n",
              "      <td>77</td>\n",
              "      <td>1</td>\n",
              "      <td>1</td>\n",
              "      <td>E</td>\n",
              "    </tr>\n",
              "    <tr>\n",
              "      <th>14998</th>\n",
              "      <td>1</td>\n",
              "      <td>235</td>\n",
              "      <td>2279692</td>\n",
              "      <td>35</td>\n",
              "      <td>0</td>\n",
              "      <td>1</td>\n",
              "      <td>E</td>\n",
              "    </tr>\n",
              "    <tr>\n",
              "      <th>14999</th>\n",
              "      <td>1</td>\n",
              "      <td>192</td>\n",
              "      <td>2814084</td>\n",
              "      <td>22</td>\n",
              "      <td>1</td>\n",
              "      <td>1</td>\n",
              "      <td>E</td>\n",
              "    </tr>\n",
              "  </tbody>\n",
              "</table>\n",
              "</div>\n",
              "      <button class=\"colab-df-convert\" onclick=\"convertToInteractive('df-2b1855e4-407b-48a5-84dd-ff86f1edfeb0')\"\n",
              "              title=\"Convert this dataframe to an interactive table.\"\n",
              "              style=\"display:none;\">\n",
              "        \n",
              "  <svg xmlns=\"http://www.w3.org/2000/svg\" height=\"24px\"viewBox=\"0 0 24 24\"\n",
              "       width=\"24px\">\n",
              "    <path d=\"M0 0h24v24H0V0z\" fill=\"none\"/>\n",
              "    <path d=\"M18.56 5.44l.94 2.06.94-2.06 2.06-.94-2.06-.94-.94-2.06-.94 2.06-2.06.94zm-11 1L8.5 8.5l.94-2.06 2.06-.94-2.06-.94L8.5 2.5l-.94 2.06-2.06.94zm10 10l.94 2.06.94-2.06 2.06-.94-2.06-.94-.94-2.06-.94 2.06-2.06.94z\"/><path d=\"M17.41 7.96l-1.37-1.37c-.4-.4-.92-.59-1.43-.59-.52 0-1.04.2-1.43.59L10.3 9.45l-7.72 7.72c-.78.78-.78 2.05 0 2.83L4 21.41c.39.39.9.59 1.41.59.51 0 1.02-.2 1.41-.59l7.78-7.78 2.81-2.81c.8-.78.8-2.07 0-2.86zM5.41 20L4 18.59l7.72-7.72 1.47 1.35L5.41 20z\"/>\n",
              "  </svg>\n",
              "      </button>\n",
              "      \n",
              "  <style>\n",
              "    .colab-df-container {\n",
              "      display:flex;\n",
              "      flex-wrap:wrap;\n",
              "      gap: 12px;\n",
              "    }\n",
              "\n",
              "    .colab-df-convert {\n",
              "      background-color: #E8F0FE;\n",
              "      border: none;\n",
              "      border-radius: 50%;\n",
              "      cursor: pointer;\n",
              "      display: none;\n",
              "      fill: #1967D2;\n",
              "      height: 32px;\n",
              "      padding: 0 0 0 0;\n",
              "      width: 32px;\n",
              "    }\n",
              "\n",
              "    .colab-df-convert:hover {\n",
              "      background-color: #E2EBFA;\n",
              "      box-shadow: 0px 1px 2px rgba(60, 64, 67, 0.3), 0px 1px 3px 1px rgba(60, 64, 67, 0.15);\n",
              "      fill: #174EA6;\n",
              "    }\n",
              "\n",
              "    [theme=dark] .colab-df-convert {\n",
              "      background-color: #3B4455;\n",
              "      fill: #D2E3FC;\n",
              "    }\n",
              "\n",
              "    [theme=dark] .colab-df-convert:hover {\n",
              "      background-color: #434B5C;\n",
              "      box-shadow: 0px 1px 3px 1px rgba(0, 0, 0, 0.15);\n",
              "      filter: drop-shadow(0px 1px 2px rgba(0, 0, 0, 0.3));\n",
              "      fill: #FFFFFF;\n",
              "    }\n",
              "  </style>\n",
              "\n",
              "      <script>\n",
              "        const buttonEl =\n",
              "          document.querySelector('#df-2b1855e4-407b-48a5-84dd-ff86f1edfeb0 button.colab-df-convert');\n",
              "        buttonEl.style.display =\n",
              "          google.colab.kernel.accessAllowed ? 'block' : 'none';\n",
              "\n",
              "        async function convertToInteractive(key) {\n",
              "          const element = document.querySelector('#df-2b1855e4-407b-48a5-84dd-ff86f1edfeb0');\n",
              "          const dataTable =\n",
              "            await google.colab.kernel.invokeFunction('convertToInteractive',\n",
              "                                                     [key], {});\n",
              "          if (!dataTable) return;\n",
              "\n",
              "          const docLinkHtml = 'Like what you see? Visit the ' +\n",
              "            '<a target=\"_blank\" href=https://colab.research.google.com/notebooks/data_table.ipynb>data table notebook</a>'\n",
              "            + ' to learn more about interactive tables.';\n",
              "          element.innerHTML = '';\n",
              "          dataTable['output_type'] = 'display_data';\n",
              "          await google.colab.output.renderOutput(dataTable, element);\n",
              "          const docLink = document.createElement('div');\n",
              "          docLink.innerHTML = docLinkHtml;\n",
              "          element.appendChild(docLink);\n",
              "        }\n",
              "      </script>\n",
              "    </div>\n",
              "  </div>\n",
              "  "
            ]
          },
          "metadata": {},
          "execution_count": 4
        }
      ]
    },
    {
      "cell_type": "code",
      "metadata": {
        "id": "f98ba02b-c246-42cc-b354-cb302f851789",
        "colab": {
          "base_uri": "https://localhost:8080/",
          "height": 300
        },
        "outputId": "7e018f4e-cfae-4bea-cc94-f9c14f13e622"
      },
      "source": [
        "df.describe()"
      ],
      "id": "f98ba02b-c246-42cc-b354-cb302f851789",
      "execution_count": 5,
      "outputs": [
        {
          "output_type": "execute_result",
          "data": {
            "text/plain": [
              "           accepted   creditscore        amount           age       marital  \\\n",
              "count  15000.000000  15000.000000  1.500000e+04  15000.000000  15000.000000   \n",
              "mean       0.518600    287.329133  3.346065e+07     58.807333      0.490200   \n",
              "std        0.499671     74.096185  2.887226e+07     20.860748      0.499921   \n",
              "min        0.000000    100.000000  5.005890e+05     18.000000      0.000000   \n",
              "25%        0.000000    246.000000  8.865364e+06     42.000000      0.000000   \n",
              "50%        1.000000    299.000000  2.314822e+07     62.000000      0.000000   \n",
              "75%        1.000000    345.000000  5.608367e+07     76.000000      1.000000   \n",
              "max        1.000000    400.000000  9.999737e+07     90.000000      1.000000   \n",
              "\n",
              "         health_ins  \n",
              "count  15000.000000  \n",
              "mean       0.444467  \n",
              "std        0.496923  \n",
              "min        0.000000  \n",
              "25%        0.000000  \n",
              "50%        0.000000  \n",
              "75%        1.000000  \n",
              "max        1.000000  "
            ],
            "text/html": [
              "\n",
              "  <div id=\"df-3f94bcae-8d89-4c49-aed4-8948069bf65e\">\n",
              "    <div class=\"colab-df-container\">\n",
              "      <div>\n",
              "<style scoped>\n",
              "    .dataframe tbody tr th:only-of-type {\n",
              "        vertical-align: middle;\n",
              "    }\n",
              "\n",
              "    .dataframe tbody tr th {\n",
              "        vertical-align: top;\n",
              "    }\n",
              "\n",
              "    .dataframe thead th {\n",
              "        text-align: right;\n",
              "    }\n",
              "</style>\n",
              "<table border=\"1\" class=\"dataframe\">\n",
              "  <thead>\n",
              "    <tr style=\"text-align: right;\">\n",
              "      <th></th>\n",
              "      <th>accepted</th>\n",
              "      <th>creditscore</th>\n",
              "      <th>amount</th>\n",
              "      <th>age</th>\n",
              "      <th>marital</th>\n",
              "      <th>health_ins</th>\n",
              "    </tr>\n",
              "  </thead>\n",
              "  <tbody>\n",
              "    <tr>\n",
              "      <th>count</th>\n",
              "      <td>15000.000000</td>\n",
              "      <td>15000.000000</td>\n",
              "      <td>1.500000e+04</td>\n",
              "      <td>15000.000000</td>\n",
              "      <td>15000.000000</td>\n",
              "      <td>15000.000000</td>\n",
              "    </tr>\n",
              "    <tr>\n",
              "      <th>mean</th>\n",
              "      <td>0.518600</td>\n",
              "      <td>287.329133</td>\n",
              "      <td>3.346065e+07</td>\n",
              "      <td>58.807333</td>\n",
              "      <td>0.490200</td>\n",
              "      <td>0.444467</td>\n",
              "    </tr>\n",
              "    <tr>\n",
              "      <th>std</th>\n",
              "      <td>0.499671</td>\n",
              "      <td>74.096185</td>\n",
              "      <td>2.887226e+07</td>\n",
              "      <td>20.860748</td>\n",
              "      <td>0.499921</td>\n",
              "      <td>0.496923</td>\n",
              "    </tr>\n",
              "    <tr>\n",
              "      <th>min</th>\n",
              "      <td>0.000000</td>\n",
              "      <td>100.000000</td>\n",
              "      <td>5.005890e+05</td>\n",
              "      <td>18.000000</td>\n",
              "      <td>0.000000</td>\n",
              "      <td>0.000000</td>\n",
              "    </tr>\n",
              "    <tr>\n",
              "      <th>25%</th>\n",
              "      <td>0.000000</td>\n",
              "      <td>246.000000</td>\n",
              "      <td>8.865364e+06</td>\n",
              "      <td>42.000000</td>\n",
              "      <td>0.000000</td>\n",
              "      <td>0.000000</td>\n",
              "    </tr>\n",
              "    <tr>\n",
              "      <th>50%</th>\n",
              "      <td>1.000000</td>\n",
              "      <td>299.000000</td>\n",
              "      <td>2.314822e+07</td>\n",
              "      <td>62.000000</td>\n",
              "      <td>0.000000</td>\n",
              "      <td>0.000000</td>\n",
              "    </tr>\n",
              "    <tr>\n",
              "      <th>75%</th>\n",
              "      <td>1.000000</td>\n",
              "      <td>345.000000</td>\n",
              "      <td>5.608367e+07</td>\n",
              "      <td>76.000000</td>\n",
              "      <td>1.000000</td>\n",
              "      <td>1.000000</td>\n",
              "    </tr>\n",
              "    <tr>\n",
              "      <th>max</th>\n",
              "      <td>1.000000</td>\n",
              "      <td>400.000000</td>\n",
              "      <td>9.999737e+07</td>\n",
              "      <td>90.000000</td>\n",
              "      <td>1.000000</td>\n",
              "      <td>1.000000</td>\n",
              "    </tr>\n",
              "  </tbody>\n",
              "</table>\n",
              "</div>\n",
              "      <button class=\"colab-df-convert\" onclick=\"convertToInteractive('df-3f94bcae-8d89-4c49-aed4-8948069bf65e')\"\n",
              "              title=\"Convert this dataframe to an interactive table.\"\n",
              "              style=\"display:none;\">\n",
              "        \n",
              "  <svg xmlns=\"http://www.w3.org/2000/svg\" height=\"24px\"viewBox=\"0 0 24 24\"\n",
              "       width=\"24px\">\n",
              "    <path d=\"M0 0h24v24H0V0z\" fill=\"none\"/>\n",
              "    <path d=\"M18.56 5.44l.94 2.06.94-2.06 2.06-.94-2.06-.94-.94-2.06-.94 2.06-2.06.94zm-11 1L8.5 8.5l.94-2.06 2.06-.94-2.06-.94L8.5 2.5l-.94 2.06-2.06.94zm10 10l.94 2.06.94-2.06 2.06-.94-2.06-.94-.94-2.06-.94 2.06-2.06.94z\"/><path d=\"M17.41 7.96l-1.37-1.37c-.4-.4-.92-.59-1.43-.59-.52 0-1.04.2-1.43.59L10.3 9.45l-7.72 7.72c-.78.78-.78 2.05 0 2.83L4 21.41c.39.39.9.59 1.41.59.51 0 1.02-.2 1.41-.59l7.78-7.78 2.81-2.81c.8-.78.8-2.07 0-2.86zM5.41 20L4 18.59l7.72-7.72 1.47 1.35L5.41 20z\"/>\n",
              "  </svg>\n",
              "      </button>\n",
              "      \n",
              "  <style>\n",
              "    .colab-df-container {\n",
              "      display:flex;\n",
              "      flex-wrap:wrap;\n",
              "      gap: 12px;\n",
              "    }\n",
              "\n",
              "    .colab-df-convert {\n",
              "      background-color: #E8F0FE;\n",
              "      border: none;\n",
              "      border-radius: 50%;\n",
              "      cursor: pointer;\n",
              "      display: none;\n",
              "      fill: #1967D2;\n",
              "      height: 32px;\n",
              "      padding: 0 0 0 0;\n",
              "      width: 32px;\n",
              "    }\n",
              "\n",
              "    .colab-df-convert:hover {\n",
              "      background-color: #E2EBFA;\n",
              "      box-shadow: 0px 1px 2px rgba(60, 64, 67, 0.3), 0px 1px 3px 1px rgba(60, 64, 67, 0.15);\n",
              "      fill: #174EA6;\n",
              "    }\n",
              "\n",
              "    [theme=dark] .colab-df-convert {\n",
              "      background-color: #3B4455;\n",
              "      fill: #D2E3FC;\n",
              "    }\n",
              "\n",
              "    [theme=dark] .colab-df-convert:hover {\n",
              "      background-color: #434B5C;\n",
              "      box-shadow: 0px 1px 3px 1px rgba(0, 0, 0, 0.15);\n",
              "      filter: drop-shadow(0px 1px 2px rgba(0, 0, 0, 0.3));\n",
              "      fill: #FFFFFF;\n",
              "    }\n",
              "  </style>\n",
              "\n",
              "      <script>\n",
              "        const buttonEl =\n",
              "          document.querySelector('#df-3f94bcae-8d89-4c49-aed4-8948069bf65e button.colab-df-convert');\n",
              "        buttonEl.style.display =\n",
              "          google.colab.kernel.accessAllowed ? 'block' : 'none';\n",
              "\n",
              "        async function convertToInteractive(key) {\n",
              "          const element = document.querySelector('#df-3f94bcae-8d89-4c49-aed4-8948069bf65e');\n",
              "          const dataTable =\n",
              "            await google.colab.kernel.invokeFunction('convertToInteractive',\n",
              "                                                     [key], {});\n",
              "          if (!dataTable) return;\n",
              "\n",
              "          const docLinkHtml = 'Like what you see? Visit the ' +\n",
              "            '<a target=\"_blank\" href=https://colab.research.google.com/notebooks/data_table.ipynb>data table notebook</a>'\n",
              "            + ' to learn more about interactive tables.';\n",
              "          element.innerHTML = '';\n",
              "          dataTable['output_type'] = 'display_data';\n",
              "          await google.colab.output.renderOutput(dataTable, element);\n",
              "          const docLink = document.createElement('div');\n",
              "          docLink.innerHTML = docLinkHtml;\n",
              "          element.appendChild(docLink);\n",
              "        }\n",
              "      </script>\n",
              "    </div>\n",
              "  </div>\n",
              "  "
            ]
          },
          "metadata": {},
          "execution_count": 5
        }
      ]
    },
    {
      "cell_type": "code",
      "metadata": {
        "id": "d195376c-3a1a-4ff6-ac8d-0716eb4c3fdd",
        "colab": {
          "base_uri": "https://localhost:8080/"
        },
        "outputId": "263a4d1f-e920-42a5-b02c-d19d5de9cfb9"
      },
      "source": [
        "print(df.accepted.value_counts())"
      ],
      "id": "d195376c-3a1a-4ff6-ac8d-0716eb4c3fdd",
      "execution_count": 6,
      "outputs": [
        {
          "output_type": "stream",
          "name": "stdout",
          "text": [
            "1    7779\n",
            "0    7221\n",
            "Name: accepted, dtype: int64\n"
          ]
        }
      ]
    },
    {
      "cell_type": "code",
      "metadata": {
        "id": "ea815f22-fc8b-4a6b-8d86-7513f69911b3",
        "colab": {
          "base_uri": "https://localhost:8080/",
          "height": 878
        },
        "outputId": "4a327809-2baa-4382-e610-dcab4dc902b5"
      },
      "source": [
        "df.hist(layout=(3,2), figsize=(15,15))\n",
        "plt.show()"
      ],
      "id": "ea815f22-fc8b-4a6b-8d86-7513f69911b3",
      "execution_count": 7,
      "outputs": [
        {
          "output_type": "display_data",
          "data": {
            "text/plain": [
              "<Figure size 1080x1080 with 6 Axes>"
            ],
            "image/png": "[encoded data removed]"
          },
          "metadata": {
            "needs_background": "light"
          }
        }
      ]
    },
    {
      "cell_type": "code",
      "metadata": {
        "id": "7c68e100-aa98-472b-88bf-1d6e7c92198e",
        "colab": {
          "base_uri": "https://localhost:8080/",
          "height": 283
        },
        "outputId": "c6d01360-5aca-41e8-c828-02f4beef585c"
      },
      "source": [
        "# Let's only use creditscore to predict accepted\n",
        "df = df.loc[:,('accepted','creditscore')]\n",
        "x = df.creditscore.values\n",
        "y = df.accepted.values\n",
        "\n",
        "plt.scatter(x,y)"
      ],
      "id": "7c68e100-aa98-472b-88bf-1d6e7c92198e",
      "execution_count": 8,
      "outputs": [
        {
          "output_type": "execute_result",
          "data": {
            "text/plain": [
              "<matplotlib.collections.PathCollection at 0x7f80719ba550>"
            ]
          },
          "metadata": {},
          "execution_count": 8
        },
        {
          "output_type": "display_data",
          "data": {
            "text/plain": [
              "<Figure size 432x288 with 1 Axes>"
            ],
            "image/png": "[encoded data removed]"
          },
          "metadata": {
            "needs_background": "light"
          }
        }
      ]
    },
    {
      "cell_type": "markdown",
      "metadata": {
        "id": "OZJuWts6i-S_"
      },
      "source": [
        "The figure above is a little bit misleading and scary!!\n",
        "Let's plot creditscore histograms for approved and non-approved separately."
      ],
      "id": "OZJuWts6i-S_"
    },
    {
      "cell_type": "code",
      "metadata": {
        "id": "KWedTRDqiZZB",
        "colab": {
          "base_uri": "https://localhost:8080/",
          "height": 513
        },
        "outputId": "c6fcdca2-c03b-40cc-cf88-c17756b6aad4"
      },
      "source": [
        "df.loc[df.accepted==1,'creditscore'].hist()\n",
        "plt.show()\n",
        "df.loc[df.accepted==0,'creditscore'].hist()\n",
        "plt.show()"
      ],
      "id": "KWedTRDqiZZB",
      "execution_count": 9,
      "outputs": [
        {
          "output_type": "display_data",
          "data": {
            "text/plain": [
              "<Figure size 432x288 with 1 Axes>"
            ],
            "image/png": "[encoded data removed]"
          },
          "metadata": {
            "needs_background": "light"
          }
        },
        {
          "output_type": "display_data",
          "data": {
            "text/plain": [
              "<Figure size 432x288 with 1 Axes>"
            ],
            "image/png": "[encoded data removed]"
          },
          "metadata": {
            "needs_background": "light"
          }
        }
      ]
    },
    {
      "cell_type": "markdown",
      "metadata": {
        "id": "xPfFHl7ajPrx"
      },
      "source": [
        "It loooks like credit score ~300 is the boundary for most approvals/denials."
      ],
      "id": "xPfFHl7ajPrx"
    },
    {
      "cell_type": "code",
      "metadata": {
        "id": "9faae558-10ac-4422-bdf4-a207e0c33b1f"
      },
      "source": [
        "X_train, X_test, y_train, y_test = train_test_split(x, y, test_size=0.2, random_state=1)"
      ],
      "id": "9faae558-10ac-4422-bdf4-a207e0c33b1f",
      "execution_count": 10,
      "outputs": []
    },
    {
      "cell_type": "code",
      "metadata": {
        "id": "7e2917d9-81cb-4d6f-94ab-f576688bb0c8",
        "colab": {
          "base_uri": "https://localhost:8080/"
        },
        "outputId": "7e79f914-5c66-45bf-f44a-2cdc9078e583"
      },
      "source": [
        "logreg = LogisticRegression()\n",
        "logreg.fit(X_train.reshape(-1,1), y_train)"
      ],
      "id": "7e2917d9-81cb-4d6f-94ab-f576688bb0c8",
      "execution_count": 11,
      "outputs": [
        {
          "output_type": "execute_result",
          "data": {
            "text/plain": [
              "LogisticRegression()"
            ]
          },
          "metadata": {},
          "execution_count": 11
        }
      ]
    },
    {
      "cell_type": "code",
      "metadata": {
        "id": "05ced57d-54d8-49bb-89d2-bc5cd75525a0"
      },
      "source": [
        "y_predict = logreg.predict(X_test.reshape(-1,1))"
      ],
      "id": "05ced57d-54d8-49bb-89d2-bc5cd75525a0",
      "execution_count": 12,
      "outputs": []
    },
    {
      "cell_type": "code",
      "metadata": {
        "id": "8f5af96d-3840-4221-8d15-525283882e3d",
        "colab": {
          "base_uri": "https://localhost:8080/"
        },
        "outputId": "dad066d4-6d00-4a0d-ae34-467caefc05e8"
      },
      "source": [
        "logreg.score(X_test.reshape(-1,1) , y_test)"
      ],
      "id": "8f5af96d-3840-4221-8d15-525283882e3d",
      "execution_count": 13,
      "outputs": [
        {
          "output_type": "execute_result",
          "data": {
            "text/plain": [
              "0.8066666666666666"
            ]
          },
          "metadata": {},
          "execution_count": 13
        }
      ]
    },
    {
      "cell_type": "markdown",
      "metadata": {
        "id": "5E45bsnBq4cp"
      },
      "source": [
        "##Important\n",
        "\n",
        "**From** our confusion matrix, we can calculate five different metrics measuring the validity of our model. <br>\n",
        "1. Accuracy (all correct / all) = (TP + TN) / (TP + TN + FP + FN)\n",
        "2. Misclassification (all incorrect / all) = 1 - Accuracy \n",
        "3. Precision (true positives / predicted positives) = TP / (TP + FP)\n",
        "4. Sensitivity aka Recall (true positives / all actual positives) = TP / (TP + FN)\n",
        "5. Specificity (true negatives / all actual negatives) =TN / (TN + FP)"
      ],
      "id": "5E45bsnBq4cp"
    },
    {
      "cell_type": "markdown",
      "metadata": {
        "id": "VSlbUZUNrFCX"
      },
      "source": [
        "* Sensitivity and Specificity are extremely crucial for health DS. <br>\n",
        "  * <b>Sensitivity</b>: how often a test correctly generates a positive result for people who have the condition that’s being tested for. \n",
        "  * <b>Specificity</b>: how often a test correctly generates a <b>negative</b> result for people who <b>doesn't</b> have the condition that’s being tested for. <br>\n",
        "<br>\n",
        "\n",
        "* <b>Recall</b> measures the ability of a model to find all the relevant cases within a data set. For example <br>\n",
        "\n",
        "$$ \\frac{\\mathrm{Spam \\ emails \\ correctly \\ labeled \\ as \\ spam}}{\\mathrm{Spam \\ emails \\ correctly \\ labeled \\ as \\ spam} \\ + {\\mathrm{Spam \\ emails \\ incorrectly \\ labeled \\ as \\ not \\ spam}}} $$ \n",
        "\n",
        "<br>\n",
        "\n",
        "* <b>Precision</b> expresses the proportion of the data points our model says existed in the relevant class that were indeed relevant. <br>\n",
        "\n",
        "$$ \\frac{\\mathrm{Spam \\ emails \\ correctly \\ labeled \\ as \\ spam}}{\\mathrm{Spam \\ emails \\ correctly \\ labeled \\ as \\ spam} \\ + {\\mathrm{Normal \\ emails \\ incorrectly \\ labeled \\ spam}}} $$ \n",
        "<br>"
      ],
      "id": "VSlbUZUNrFCX"
    },
    {
      "cell_type": "markdown",
      "metadata": {
        "id": "4ulDgkC9vwS3"
      },
      "source": [
        "### F1 Score\n",
        "In some situations, we might know we want to maximize either recall or precision at the expense of the other metric. For example, in preliminary disease screening of patients for follow-up examinations, we would probably want a recall near 1.0—we want to find all patients who actually have the disease—and we can accept a low precision - we accidentally find some patients have the disease who actually don’t have it - if the cost of the follow-up examination isn’t high. However, in cases where we want to find an optimal blend of precision and recall, we can combine the two metrics using the F1 score.\n",
        "\n",
        "\n",
        "* The <b>F1 score</b> is the harmonic mean of precision and recall, taking both metrics into account in the following equation:\n",
        "\n",
        "$$ F_1 = 2 \\times \\frac{\\mathrm{precision}\\times \\mathrm{recall}}{\\mathrm{precision}+\\mathrm{recall}} $$"
      ],
      "id": "4ulDgkC9vwS3"
    },
    {
      "cell_type": "markdown",
      "metadata": {
        "id": "o2Su21_OwYus"
      },
      "source": [
        " ### ROC Curve\n",
        "ROC = Receiver Operating Characteristic. <br>\n",
        "* ROC is one of the most fundamenntal visualization techniques for showing the performance of a classification model.\n",
        "* ROC shows how the recall vs. precision relationship changes as we vary the threshold for identifying a positive data point in our model.\n",
        "* The threshold represents the value above which we consider a data point in the positive class. \n",
        "\n",
        "A typical ROC curve looks like this: \n",
        "\n",
        "![image.png](data:image/png;base64,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)"
      ],
      "id": "o2Su21_OwYus"
    },
    {
      "cell_type": "markdown",
      "metadata": {
        "id": "BMjF1hejxQfr"
      },
      "source": [
        "* We can quantify a model’s ROC curve by calculating the total Area Under the Curve (AUC), a metric that falls between zero and one with a higher number indicating better classification performance. \n",
        "* In the graph above, the AUC for the blue curve will be greater than that for the red curve, meaning the blue model is better at achieving a blend of precision and recall. \n",
        "* A random classifier (the black line) achieves an AUC of 0.5."
      ],
      "id": "BMjF1hejxQfr"
    },
    {
      "cell_type": "code",
      "metadata": {
        "id": "HmdQEOoCoyBd",
        "colab": {
          "base_uri": "https://localhost:8080/"
        },
        "outputId": "cc4073f0-17f2-434e-b8bf-8ba82ab1f593"
      },
      "source": [
        "#Confusion matrix, Accuracy, sensitivity and specificity\n",
        "from sklearn.metrics import confusion_matrix\n",
        "\n",
        "cm1 = confusion_matrix(y_test,y_predict)\n",
        "print('Confusion Matrix : \\n', cm1)"
      ],
      "id": "HmdQEOoCoyBd",
      "execution_count": 14,
      "outputs": [
        {
          "output_type": "stream",
          "name": "stdout",
          "text": [
            "Confusion Matrix : \n",
            " [[1113  318]\n",
            " [ 262 1307]]\n"
          ]
        }
      ]
    },
    {
      "cell_type": "code",
      "metadata": {
        "id": "yKpKziqwpA7B",
        "colab": {
          "base_uri": "https://localhost:8080/"
        },
        "outputId": "dd416c86-2057-4071-b719-7c1b36e20459"
      },
      "source": [
        "total1=sum(sum(cm1))\n",
        "#####from confusion matrix calculate accuracy\n",
        "accuracy1=(cm1[0,0]+cm1[1,1])/total1\n",
        "print ('Accuracy : ', accuracy1)\n",
        "\n",
        "sensitivity1 = cm1[0,0]/(cm1[0,0]+cm1[0,1])\n",
        "print('Sensitivity : ', sensitivity1 )\n",
        "\n",
        "specificity1 = cm1[1,1]/(cm1[1,0]+cm1[1,1])\n",
        "print('Specificity : ', specificity1)"
      ],
      "id": "yKpKziqwpA7B",
      "execution_count": 15,
      "outputs": [
        {
          "output_type": "stream",
          "name": "stdout",
          "text": [
            "Accuracy :  0.8066666666666666\n",
            "Sensitivity :  0.7777777777777778\n",
            "Specificity :  0.8330146590184832\n"
          ]
        }
      ]
    },
    {
      "cell_type": "code",
      "metadata": {
        "id": "7a40b53c-8189-42a9-95aa-ee757708417d",
        "colab": {
          "base_uri": "https://localhost:8080/"
        },
        "outputId": "c967034d-910c-4000-ef76-de7f2a0003ec"
      },
      "source": [
        "print(logreg.coef_, logreg.intercept_)"
      ],
      "id": "7a40b53c-8189-42a9-95aa-ee757708417d",
      "execution_count": 16,
      "outputs": [
        {
          "output_type": "stream",
          "name": "stdout",
          "text": [
            "[[0.03229255]] [-9.40314326]\n"
          ]
        }
      ]
    },
    {
      "cell_type": "code",
      "metadata": {
        "id": "9c6d99f7-063f-45eb-abcb-c90207a45341",
        "colab": {
          "base_uri": "https://localhost:8080/"
        },
        "outputId": "79d46914-408a-433f-b212-c9402d60f3e1"
      },
      "source": [
        "test_x = np.array([230])\n",
        "logreg.predict(test_x.reshape(-1, 1))"
      ],
      "id": "9c6d99f7-063f-45eb-abcb-c90207a45341",
      "execution_count": 17,
      "outputs": [
        {
          "output_type": "execute_result",
          "data": {
            "text/plain": [
              "array([0])"
            ]
          },
          "metadata": {},
          "execution_count": 17
        }
      ]
    },
    {
      "cell_type": "code",
      "metadata": {
        "id": "ea52d43d-e4e3-409c-96d1-64bf0225f06b",
        "colab": {
          "base_uri": "https://localhost:8080/"
        },
        "outputId": "3e204e60-677c-4359-fba9-d3279aa0398c"
      },
      "source": [
        "a = logreg.intercept_ + test_x*logreg.coef_\n",
        "p = np.exp(a)/(1 + np.exp(a))\n",
        "print(p)"
      ],
      "id": "ea52d43d-e4e3-409c-96d1-64bf0225f06b",
      "execution_count": 18,
      "outputs": [
        {
          "output_type": "stream",
          "name": "stdout",
          "text": [
            "[[0.12176125]]\n"
          ]
        }
      ]
    },
    {
      "cell_type": "code",
      "metadata": {
        "id": "4415e098-199c-46b1-8a23-a4d622d426fc",
        "colab": {
          "base_uri": "https://localhost:8080/"
        },
        "outputId": "1232f50f-093e-40f6-a99e-cb5a58e3ee42"
      },
      "source": [
        "test_x = np.array([370])\n",
        "logreg.predict(test_x.reshape(-1, 1))"
      ],
      "id": "4415e098-199c-46b1-8a23-a4d622d426fc",
      "execution_count": 19,
      "outputs": [
        {
          "output_type": "execute_result",
          "data": {
            "text/plain": [
              "array([1])"
            ]
          },
          "metadata": {},
          "execution_count": 19
        }
      ]
    },
    {
      "cell_type": "code",
      "metadata": {
        "id": "91b7b601-918a-499f-8bf9-34fc5b1244b3",
        "colab": {
          "base_uri": "https://localhost:8080/"
        },
        "outputId": "747d19df-f641-4371-dd95-5ec2eb137132"
      },
      "source": [
        "a = logreg.intercept_ + test_x*logreg.coef_\n",
        "p = np.exp(a)/(1 + np.exp(a))\n",
        "print(p)"
      ],
      "id": "91b7b601-918a-499f-8bf9-34fc5b1244b3",
      "execution_count": 20,
      "outputs": [
        {
          "output_type": "stream",
          "name": "stdout",
          "text": [
            "[[0.9272437]]\n"
          ]
        }
      ]
    },
    {
      "cell_type": "markdown",
      "metadata": {
        "id": "5ab1931b-87c3-4a68-ac32-177631dccae9"
      },
      "source": [
        "Someone with a credit score of 370 has an estimated probabilty of 92.72 % to get a loan."
      ],
      "id": "5ab1931b-87c3-4a68-ac32-177631dccae9"
    },
    {
      "cell_type": "code",
      "metadata": {
        "id": "3906107b-93b8-4694-b490-06970f21c7ff",
        "colab": {
          "base_uri": "https://localhost:8080/",
          "height": 283
        },
        "outputId": "53373316-2f5e-4a1b-9b77-3f43778b9ee8"
      },
      "source": [
        "test_x = np.arange(100,400)\n",
        "test_y = logreg.predict(test_x.reshape(-1, 1))\n",
        "\n",
        "a = logreg.intercept_ + test_x*logreg.coef_\n",
        "p = np.exp(a)/(1 + np.exp(a))\n",
        "plt.scatter(test_x,test_y)\n",
        "plt.plot(test_x,np.squeeze(p),'r')"
      ],
      "id": "3906107b-93b8-4694-b490-06970f21c7ff",
      "execution_count": 21,
      "outputs": [
        {
          "output_type": "execute_result",
          "data": {
            "text/plain": [
              "[<matplotlib.lines.Line2D at 0x7f80718fadd0>]"
            ]
          },
          "metadata": {},
          "execution_count": 21
        },
        {
          "output_type": "display_data",
          "data": {
            "text/plain": [
              "<Figure size 432x288 with 1 Axes>"
            ],
            "image/png": "[encoded data removed]"
          },
          "metadata": {
            "needs_background": "light"
          }
        }
      ]
    },
    {
      "cell_type": "code",
      "metadata": {
        "id": "062a815f-0015-4a1a-b46e-4d0e72a7451e"
      },
      "source": [
        "dfm = pd.read_csv(\"/content/loans.csv\")"
      ],
      "id": "062a815f-0015-4a1a-b46e-4d0e72a7451e",
      "execution_count": 24,
      "outputs": []
    },
    {
      "cell_type": "code",
      "metadata": {
        "id": "cZzh25hI2ez8",
        "colab": {
          "base_uri": "https://localhost:8080/",
          "height": 206
        },
        "outputId": "4d4ac92d-dc87-4ff9-a3a3-7c93b51d6ce6"
      },
      "source": [
        "dfm.head()"
      ],
      "id": "cZzh25hI2ez8",
      "execution_count": 26,
      "outputs": [
        {
          "output_type": "execute_result",
          "data": {
            "text/plain": [
              "   accepted  creditscore    amount  age  marital  health_ins creditgrade\n",
              "0         0          394  96120915   38        0           1           A\n",
              "1         0          400  14323452   46        1           0           A\n",
              "2         0          399  63120669   64        0           0           A\n",
              "3         0          379  15155047   49        0           0           A\n",
              "4         0          356  79540877   55        1           0           A"
            ],
            "text/html": [
              "\n",
              "  <div id=\"df-313df9a4-eb85-4063-8bec-c2c3facf2964\">\n",
              "    <div class=\"colab-df-container\">\n",
              "      <div>\n",
              "<style scoped>\n",
              "    .dataframe tbody tr th:only-of-type {\n",
              "        vertical-align: middle;\n",
              "    }\n",
              "\n",
              "    .dataframe tbody tr th {\n",
              "        vertical-align: top;\n",
              "    }\n",
              "\n",
              "    .dataframe thead th {\n",
              "        text-align: right;\n",
              "    }\n",
              "</style>\n",
              "<table border=\"1\" class=\"dataframe\">\n",
              "  <thead>\n",
              "    <tr style=\"text-align: right;\">\n",
              "      <th></th>\n",
              "      <th>accepted</th>\n",
              "      <th>creditscore</th>\n",
              "      <th>amount</th>\n",
              "      <th>age</th>\n",
              "      <th>marital</th>\n",
              "      <th>health_ins</th>\n",
              "      <th>creditgrade</th>\n",
              "    </tr>\n",
              "  </thead>\n",
              "  <tbody>\n",
              "    <tr>\n",
              "      <th>0</th>\n",
              "      <td>0</td>\n",
              "      <td>394</td>\n",
              "      <td>96120915</td>\n",
              "      <td>38</td>\n",
              "      <td>0</td>\n",
              "      <td>1</td>\n",
              "      <td>A</td>\n",
              "    </tr>\n",
              "    <tr>\n",
              "      <th>1</th>\n",
              "      <td>0</td>\n",
              "      <td>400</td>\n",
              "      <td>14323452</td>\n",
              "      <td>46</td>\n",
              "      <td>1</td>\n",
              "      <td>0</td>\n",
              "      <td>A</td>\n",
              "    </tr>\n",
              "    <tr>\n",
              "      <th>2</th>\n",
              "      <td>0</td>\n",
              "      <td>399</td>\n",
              "      <td>63120669</td>\n",
              "      <td>64</td>\n",
              "      <td>0</td>\n",
              "      <td>0</td>\n",
              "      <td>A</td>\n",
              "    </tr>\n",
              "    <tr>\n",
              "      <th>3</th>\n",
              "      <td>0</td>\n",
              "      <td>379</td>\n",
              "      <td>15155047</td>\n",
              "      <td>49</td>\n",
              "      <td>0</td>\n",
              "      <td>0</td>\n",
              "      <td>A</td>\n",
              "    </tr>\n",
              "    <tr>\n",
              "      <th>4</th>\n",
              "      <td>0</td>\n",
              "      <td>356</td>\n",
              "      <td>79540877</td>\n",
              "      <td>55</td>\n",
              "      <td>1</td>\n",
              "      <td>0</td>\n",
              "      <td>A</td>\n",
              "    </tr>\n",
              "  </tbody>\n",
              "</table>\n",
              "</div>\n",
              "      <button class=\"colab-df-convert\" onclick=\"convertToInteractive('df-313df9a4-eb85-4063-8bec-c2c3facf2964')\"\n",
              "              title=\"Convert this dataframe to an interactive table.\"\n",
              "              style=\"display:none;\">\n",
              "        \n",
              "  <svg xmlns=\"http://www.w3.org/2000/svg\" height=\"24px\"viewBox=\"0 0 24 24\"\n",
              "       width=\"24px\">\n",
              "    <path d=\"M0 0h24v24H0V0z\" fill=\"none\"/>\n",
              "    <path d=\"M18.56 5.44l.94 2.06.94-2.06 2.06-.94-2.06-.94-.94-2.06-.94 2.06-2.06.94zm-11 1L8.5 8.5l.94-2.06 2.06-.94-2.06-.94L8.5 2.5l-.94 2.06-2.06.94zm10 10l.94 2.06.94-2.06 2.06-.94-2.06-.94-.94-2.06-.94 2.06-2.06.94z\"/><path d=\"M17.41 7.96l-1.37-1.37c-.4-.4-.92-.59-1.43-.59-.52 0-1.04.2-1.43.59L10.3 9.45l-7.72 7.72c-.78.78-.78 2.05 0 2.83L4 21.41c.39.39.9.59 1.41.59.51 0 1.02-.2 1.41-.59l7.78-7.78 2.81-2.81c.8-.78.8-2.07 0-2.86zM5.41 20L4 18.59l7.72-7.72 1.47 1.35L5.41 20z\"/>\n",
              "  </svg>\n",
              "      </button>\n",
              "      \n",
              "  <style>\n",
              "    .colab-df-container {\n",
              "      display:flex;\n",
              "      flex-wrap:wrap;\n",
              "      gap: 12px;\n",
              "    }\n",
              "\n",
              "    .colab-df-convert {\n",
              "      background-color: #E8F0FE;\n",
              "      border: none;\n",
              "      border-radius: 50%;\n",
              "      cursor: pointer;\n",
              "      display: none;\n",
              "      fill: #1967D2;\n",
              "      height: 32px;\n",
              "      padding: 0 0 0 0;\n",
              "      width: 32px;\n",
              "    }\n",
              "\n",
              "    .colab-df-convert:hover {\n",
              "      background-color: #E2EBFA;\n",
              "      box-shadow: 0px 1px 2px rgba(60, 64, 67, 0.3), 0px 1px 3px 1px rgba(60, 64, 67, 0.15);\n",
              "      fill: #174EA6;\n",
              "    }\n",
              "\n",
              "    [theme=dark] .colab-df-convert {\n",
              "      background-color: #3B4455;\n",
              "      fill: #D2E3FC;\n",
              "    }\n",
              "\n",
              "    [theme=dark] .colab-df-convert:hover {\n",
              "      background-color: #434B5C;\n",
              "      box-shadow: 0px 1px 3px 1px rgba(0, 0, 0, 0.15);\n",
              "      filter: drop-shadow(0px 1px 2px rgba(0, 0, 0, 0.3));\n",
              "      fill: #FFFFFF;\n",
              "    }\n",
              "  </style>\n",
              "\n",
              "      <script>\n",
              "        const buttonEl =\n",
              "          document.querySelector('#df-313df9a4-eb85-4063-8bec-c2c3facf2964 button.colab-df-convert');\n",
              "        buttonEl.style.display =\n",
              "          google.colab.kernel.accessAllowed ? 'block' : 'none';\n",
              "\n",
              "        async function convertToInteractive(key) {\n",
              "          const element = document.querySelector('#df-313df9a4-eb85-4063-8bec-c2c3facf2964');\n",
              "          const dataTable =\n",
              "            await google.colab.kernel.invokeFunction('convertToInteractive',\n",
              "                                                     [key], {});\n",
              "          if (!dataTable) return;\n",
              "\n",
              "          const docLinkHtml = 'Like what you see? Visit the ' +\n",
              "            '<a target=\"_blank\" href=https://colab.research.google.com/notebooks/data_table.ipynb>data table notebook</a>'\n",
              "            + ' to learn more about interactive tables.';\n",
              "          element.innerHTML = '';\n",
              "          dataTable['output_type'] = 'display_data';\n",
              "          await google.colab.output.renderOutput(dataTable, element);\n",
              "          const docLink = document.createElement('div');\n",
              "          docLink.innerHTML = docLinkHtml;\n",
              "          element.appendChild(docLink);\n",
              "        }\n",
              "      </script>\n",
              "    </div>\n",
              "  </div>\n",
              "  "
            ]
          },
          "metadata": {},
          "execution_count": 26
        }
      ]
    },
    {
      "cell_type": "code",
      "metadata": {
        "id": "2223c15f-d843-44ad-9251-a3117508e1ff",
        "colab": {
          "base_uri": "https://localhost:8080/",
          "height": 300
        },
        "outputId": "a7418f36-3d66-43b7-cb7f-cd4a86007fe1"
      },
      "source": [
        "dfm.describe()"
      ],
      "id": "2223c15f-d843-44ad-9251-a3117508e1ff",
      "execution_count": 25,
      "outputs": [
        {
          "output_type": "execute_result",
          "data": {
            "text/plain": [
              "           accepted   creditscore        amount           age       marital  \\\n",
              "count  15000.000000  15000.000000  1.500000e+04  15000.000000  15000.000000   \n",
              "mean       0.518600    287.329133  3.346065e+07     58.807333      0.490200   \n",
              "std        0.499671     74.096185  2.887226e+07     20.860748      0.499921   \n",
              "min        0.000000    100.000000  5.005890e+05     18.000000      0.000000   \n",
              "25%        0.000000    246.000000  8.865364e+06     42.000000      0.000000   \n",
              "50%        1.000000    299.000000  2.314822e+07     62.000000      0.000000   \n",
              "75%        1.000000    345.000000  5.608367e+07     76.000000      1.000000   \n",
              "max        1.000000    400.000000  9.999737e+07     90.000000      1.000000   \n",
              "\n",
              "         health_ins  \n",
              "count  15000.000000  \n",
              "mean       0.444467  \n",
              "std        0.496923  \n",
              "min        0.000000  \n",
              "25%        0.000000  \n",
              "50%        0.000000  \n",
              "75%        1.000000  \n",
              "max        1.000000  "
            ],
            "text/html": [
              "\n",
              "  <div id=\"df-4a149aa7-2b0d-4eda-8689-9746fcca68b8\">\n",
              "    <div class=\"colab-df-container\">\n",
              "      <div>\n",
              "<style scoped>\n",
              "    .dataframe tbody tr th:only-of-type {\n",
              "        vertical-align: middle;\n",
              "    }\n",
              "\n",
              "    .dataframe tbody tr th {\n",
              "        vertical-align: top;\n",
              "    }\n",
              "\n",
              "    .dataframe thead th {\n",
              "        text-align: right;\n",
              "    }\n",
              "</style>\n",
              "<table border=\"1\" class=\"dataframe\">\n",
              "  <thead>\n",
              "    <tr style=\"text-align: right;\">\n",
              "      <th></th>\n",
              "      <th>accepted</th>\n",
              "      <th>creditscore</th>\n",
              "      <th>amount</th>\n",
              "      <th>age</th>\n",
              "      <th>marital</th>\n",
              "      <th>health_ins</th>\n",
              "    </tr>\n",
              "  </thead>\n",
              "  <tbody>\n",
              "    <tr>\n",
              "      <th>count</th>\n",
              "      <td>15000.000000</td>\n",
              "      <td>15000.000000</td>\n",
              "      <td>1.500000e+04</td>\n",
              "      <td>15000.000000</td>\n",
              "      <td>15000.000000</td>\n",
              "      <td>15000.000000</td>\n",
              "    </tr>\n",
              "    <tr>\n",
              "      <th>mean</th>\n",
              "      <td>0.518600</td>\n",
              "      <td>287.329133</td>\n",
              "      <td>3.346065e+07</td>\n",
              "      <td>58.807333</td>\n",
              "      <td>0.490200</td>\n",
              "      <td>0.444467</td>\n",
              "    </tr>\n",
              "    <tr>\n",
              "      <th>std</th>\n",
              "      <td>0.499671</td>\n",
              "      <td>74.096185</td>\n",
              "      <td>2.887226e+07</td>\n",
              "      <td>20.860748</td>\n",
              "      <td>0.499921</td>\n",
              "      <td>0.496923</td>\n",
              "    </tr>\n",
              "    <tr>\n",
              "      <th>min</th>\n",
              "      <td>0.000000</td>\n",
              "      <td>100.000000</td>\n",
              "      <td>5.005890e+05</td>\n",
              "      <td>18.000000</td>\n",
              "      <td>0.000000</td>\n",
              "      <td>0.000000</td>\n",
              "    </tr>\n",
              "    <tr>\n",
              "      <th>25%</th>\n",
              "      <td>0.000000</td>\n",
              "      <td>246.000000</td>\n",
              "      <td>8.865364e+06</td>\n",
              "      <td>42.000000</td>\n",
              "      <td>0.000000</td>\n",
              "      <td>0.000000</td>\n",
              "    </tr>\n",
              "    <tr>\n",
              "      <th>50%</th>\n",
              "      <td>1.000000</td>\n",
              "      <td>299.000000</td>\n",
              "      <td>2.314822e+07</td>\n",
              "      <td>62.000000</td>\n",
              "      <td>0.000000</td>\n",
              "      <td>0.000000</td>\n",
              "    </tr>\n",
              "    <tr>\n",
              "      <th>75%</th>\n",
              "      <td>1.000000</td>\n",
              "      <td>345.000000</td>\n",
              "      <td>5.608367e+07</td>\n",
              "      <td>76.000000</td>\n",
              "      <td>1.000000</td>\n",
              "      <td>1.000000</td>\n",
              "    </tr>\n",
              "    <tr>\n",
              "      <th>max</th>\n",
              "      <td>1.000000</td>\n",
              "      <td>400.000000</td>\n",
              "      <td>9.999737e+07</td>\n",
              "      <td>90.000000</td>\n",
              "      <td>1.000000</td>\n",
              "      <td>1.000000</td>\n",
              "    </tr>\n",
              "  </tbody>\n",
              "</table>\n",
              "</div>\n",
              "      <button class=\"colab-df-convert\" onclick=\"convertToInteractive('df-4a149aa7-2b0d-4eda-8689-9746fcca68b8')\"\n",
              "              title=\"Convert this dataframe to an interactive table.\"\n",
              "              style=\"display:none;\">\n",
              "        \n",
              "  <svg xmlns=\"http://www.w3.org/2000/svg\" height=\"24px\"viewBox=\"0 0 24 24\"\n",
              "       width=\"24px\">\n",
              "    <path d=\"M0 0h24v24H0V0z\" fill=\"none\"/>\n",
              "    <path d=\"M18.56 5.44l.94 2.06.94-2.06 2.06-.94-2.06-.94-.94-2.06-.94 2.06-2.06.94zm-11 1L8.5 8.5l.94-2.06 2.06-.94-2.06-.94L8.5 2.5l-.94 2.06-2.06.94zm10 10l.94 2.06.94-2.06 2.06-.94-2.06-.94-.94-2.06-.94 2.06-2.06.94z\"/><path d=\"M17.41 7.96l-1.37-1.37c-.4-.4-.92-.59-1.43-.59-.52 0-1.04.2-1.43.59L10.3 9.45l-7.72 7.72c-.78.78-.78 2.05 0 2.83L4 21.41c.39.39.9.59 1.41.59.51 0 1.02-.2 1.41-.59l7.78-7.78 2.81-2.81c.8-.78.8-2.07 0-2.86zM5.41 20L4 18.59l7.72-7.72 1.47 1.35L5.41 20z\"/>\n",
              "  </svg>\n",
              "      </button>\n",
              "      \n",
              "  <style>\n",
              "    .colab-df-container {\n",
              "      display:flex;\n",
              "      flex-wrap:wrap;\n",
              "      gap: 12px;\n",
              "    }\n",
              "\n",
              "    .colab-df-convert {\n",
              "      background-color: #E8F0FE;\n",
              "      border: none;\n",
              "      border-radius: 50%;\n",
              "      cursor: pointer;\n",
              "      display: none;\n",
              "      fill: #1967D2;\n",
              "      height: 32px;\n",
              "      padding: 0 0 0 0;\n",
              "      width: 32px;\n",
              "    }\n",
              "\n",
              "    .colab-df-convert:hover {\n",
              "      background-color: #E2EBFA;\n",
              "      box-shadow: 0px 1px 2px rgba(60, 64, 67, 0.3), 0px 1px 3px 1px rgba(60, 64, 67, 0.15);\n",
              "      fill: #174EA6;\n",
              "    }\n",
              "\n",
              "    [theme=dark] .colab-df-convert {\n",
              "      background-color: #3B4455;\n",
              "      fill: #D2E3FC;\n",
              "    }\n",
              "\n",
              "    [theme=dark] .colab-df-convert:hover {\n",
              "      background-color: #434B5C;\n",
              "      box-shadow: 0px 1px 3px 1px rgba(0, 0, 0, 0.15);\n",
              "      filter: drop-shadow(0px 1px 2px rgba(0, 0, 0, 0.3));\n",
              "      fill: #FFFFFF;\n",
              "    }\n",
              "  </style>\n",
              "\n",
              "      <script>\n",
              "        const buttonEl =\n",
              "          document.querySelector('#df-4a149aa7-2b0d-4eda-8689-9746fcca68b8 button.colab-df-convert');\n",
              "        buttonEl.style.display =\n",
              "          google.colab.kernel.accessAllowed ? 'block' : 'none';\n",
              "\n",
              "        async function convertToInteractive(key) {\n",
              "          const element = document.querySelector('#df-4a149aa7-2b0d-4eda-8689-9746fcca68b8');\n",
              "          const dataTable =\n",
              "            await google.colab.kernel.invokeFunction('convertToInteractive',\n",
              "                                                     [key], {});\n",
              "          if (!dataTable) return;\n",
              "\n",
              "          const docLinkHtml = 'Like what you see? Visit the ' +\n",
              "            '<a target=\"_blank\" href=https://colab.research.google.com/notebooks/data_table.ipynb>data table notebook</a>'\n",
              "            + ' to learn more about interactive tables.';\n",
              "          element.innerHTML = '';\n",
              "          dataTable['output_type'] = 'display_data';\n",
              "          await google.colab.output.renderOutput(dataTable, element);\n",
              "          const docLink = document.createElement('div');\n",
              "          docLink.innerHTML = docLinkHtml;\n",
              "          element.appendChild(docLink);\n",
              "        }\n",
              "      </script>\n",
              "    </div>\n",
              "  </div>\n",
              "  "
            ]
          },
          "metadata": {},
          "execution_count": 25
        }
      ]
    },
    {
      "cell_type": "code",
      "metadata": {
        "id": "ZOOuONR83GUP"
      },
      "source": [
        "x = dfm.loc[:,['creditscore','amount','age','marital','health_ins']].values\n",
        "y = dfm.loc[:,'accepted'].values"
      ],
      "id": "ZOOuONR83GUP",
      "execution_count": 27,
      "outputs": []
    },
    {
      "cell_type": "code",
      "metadata": {
        "id": "d6e23055-7c80-4fb7-ad24-a46f7a42546c",
        "colab": {
          "base_uri": "https://localhost:8080/"
        },
        "outputId": "a6adb119-f1ea-4486-f888-53fc9eb37c56"
      },
      "source": [
        "X_train, X_test, y_train, y_test = train_test_split(x, y, test_size=0.2, random_state=1)\n",
        "logreg = LogisticRegression()\n",
        "logreg.fit(X_train, y_train)\n",
        "logreg.score(X_test, y_test)"
      ],
      "id": "d6e23055-7c80-4fb7-ad24-a46f7a42546c",
      "execution_count": 28,
      "outputs": [
        {
          "output_type": "execute_result",
          "data": {
            "text/plain": [
              "0.477"
            ]
          },
          "metadata": {},
          "execution_count": 28
        }
      ]
    },
    {
      "cell_type": "markdown",
      "metadata": {
        "id": "LCXWa-wl6PM4"
      },
      "source": [
        "This is extremely low!!! What's going on? <br>\n",
        "Let's check the confusion matrix"
      ],
      "id": "LCXWa-wl6PM4"
    },
    {
      "cell_type": "code",
      "metadata": {
        "id": "b1d17DHB2D7L",
        "colab": {
          "base_uri": "https://localhost:8080/"
        },
        "outputId": "242f4fbf-de03-4a58-fc17-5c04b12dbf62"
      },
      "source": [
        "y_predict = logreg.predict(X_test)\n",
        "cm1 = confusion_matrix(y_test,y_predict)\n",
        "print('Confusion Matrix : \\n', cm1)"
      ],
      "id": "b1d17DHB2D7L",
      "execution_count": 29,
      "outputs": [
        {
          "output_type": "stream",
          "name": "stdout",
          "text": [
            "Confusion Matrix : \n",
            " [[1431    0]\n",
            " [1569    0]]\n"
          ]
        }
      ]
    },
    {
      "cell_type": "code",
      "metadata": {
        "id": "OoYeSxmZ2WTC",
        "colab": {
          "base_uri": "https://localhost:8080/"
        },
        "outputId": "45a196f2-3718-457f-a096-99c44fd7dc01"
      },
      "source": [
        "df = dfm.copy()\n",
        "df.amount = np.log10(df.amount)\n",
        "x = df.loc[:,['creditscore','amount','age','marital','health_ins']].values\n",
        "X_train, X_test, y_train, y_test = train_test_split(x, y, test_size=0.2, random_state=1)\n",
        "logreg = LogisticRegression()\n",
        "logreg.fit(X_train, y_train)\n",
        "logreg.score(X_test, y_test)"
      ],
      "id": "OoYeSxmZ2WTC",
      "execution_count": 30,
      "outputs": [
        {
          "output_type": "execute_result",
          "data": {
            "text/plain": [
              "0.9593333333333334"
            ]
          },
          "metadata": {},
          "execution_count": 30
        }
      ]
    },
    {
      "cell_type": "code",
      "metadata": {
        "id": "jxVqhJas5VOW",
        "colab": {
          "base_uri": "https://localhost:8080/"
        },
        "outputId": "849a52d0-5e7f-48c3-e29a-adfeb5cca938"
      },
      "source": [
        "y_predict = logreg.predict(X_test)\n",
        "cm1 = confusion_matrix(y_test,y_predict)\n",
        "print('Confusion Matrix : \\n', cm1)\n",
        "\n",
        "total1=sum(sum(cm1))\n",
        "#####from confusion matrix calculate accuracy\n",
        "accuracy1=(cm1[0,0]+cm1[1,1])/total1\n",
        "print ('Accuracy : ', accuracy1)\n",
        "\n",
        "sensitivity1 = cm1[0,0]/(cm1[0,0]+cm1[0,1])\n",
        "print('Sensitivity : ', sensitivity1 )\n",
        "\n",
        "specificity1 = cm1[1,1]/(cm1[1,0]+cm1[1,1])\n",
        "print('Specificity : ', specificity1)"
      ],
      "id": "jxVqhJas5VOW",
      "execution_count": 31,
      "outputs": [
        {
          "output_type": "stream",
          "name": "stdout",
          "text": [
            "Confusion Matrix : \n",
            " [[1359   72]\n",
            " [  50 1519]]\n",
            "Accuracy :  0.9593333333333334\n",
            "Sensitivity :  0.949685534591195\n",
            "Specificity :  0.9681325685149776\n"
          ]
        }
      ]
    },
    {
      "cell_type": "code",
      "metadata": {
        "id": "1beda7f9-02e8-4ed1-81da-a569f1d402e7",
        "colab": {
          "base_uri": "https://localhost:8080/"
        },
        "outputId": "9c943e7e-7853-43af-d606-0dde7bb9b8c0"
      },
      "source": [
        "test_info = np.array([300,np.log10(30000000),80,0,0])\n",
        "logreg.predict(test_info.reshape((1,5)))"
      ],
      "id": "1beda7f9-02e8-4ed1-81da-a569f1d402e7",
      "execution_count": 32,
      "outputs": [
        {
          "output_type": "execute_result",
          "data": {
            "text/plain": [
              "array([0])"
            ]
          },
          "metadata": {},
          "execution_count": 32
        }
      ]
    },
    {
      "cell_type": "code",
      "metadata": {
        "id": "69a8789f-ea96-409f-88ef-aa8ce03c1db8",
        "colab": {
          "base_uri": "https://localhost:8080/"
        },
        "outputId": "6b1f7b37-7ce5-4e74-d665-f975be81f63e"
      },
      "source": [
        "print(logreg.coef_, logreg.intercept_)"
      ],
      "id": "69a8789f-ea96-409f-88ef-aa8ce03c1db8",
      "execution_count": 33,
      "outputs": [
        {
          "output_type": "stream",
          "name": "stdout",
          "text": [
            "[[ 3.37062154e-02 -3.04552427e+00 -3.14134194e-03  2.12853963e+00\n",
            "   4.63193401e+00]] [9.35320271]\n"
          ]
        }
      ]
    },
    {
      "cell_type": "code",
      "metadata": {
        "id": "15fd6d3f-132e-43c2-b02d-1b0d96635b64",
        "colab": {
          "base_uri": "https://localhost:8080/"
        },
        "outputId": "a50814bb-e409-45fc-e36e-9b9acc54e2d4"
      },
      "source": [
        "a = logreg.coef_[0,0]*test_info[0]+logreg.coef_[0,1]*test_info[1]+logreg.coef_[0,2]*test_info[2]+logreg.coef_[0,3]*test_info[3]+logreg.coef_[0,4]*test_info[4]+logreg.intercept_\n",
        "p = np.exp(a)/(1 + np.exp(a))\n",
        "print(p)"
      ],
      "id": "15fd6d3f-132e-43c2-b02d-1b0d96635b64",
      "execution_count": 34,
      "outputs": [
        {
          "output_type": "stream",
          "name": "stdout",
          "text": [
            "[0.0277064]\n"
          ]
        }
      ]
    },
    {
      "cell_type": "code",
      "metadata": {
        "id": "c17b01a3-0019-4ca8-9f93-9cc76ea6e996",
        "colab": {
          "base_uri": "https://localhost:8080/"
        },
        "outputId": "1bcb25cd-bfbc-43c2-f8c4-b3d8ffd8b419"
      },
      "source": [
        "a = logreg.intercept_ \n",
        "for i in range(0,5):\n",
        "  a = a+logreg.coef_[0,i]*test_info[i]\n",
        "p = np.exp(a)/(1 + np.exp(a))\n",
        "print(p)  "
      ],
      "id": "c17b01a3-0019-4ca8-9f93-9cc76ea6e996",
      "execution_count": 35,
      "outputs": [
        {
          "output_type": "stream",
          "name": "stdout",
          "text": [
            "[0.0277064]\n"
          ]
        }
      ]
    },
    {
      "cell_type": "markdown",
      "metadata": {
        "id": "JMgDhYDG7VC8"
      },
      "source": [
        "Ouch! 2.77% only. No way he can get a loan!"
      ],
      "id": "JMgDhYDG7VC8"
    },
    {
      "cell_type": "code",
      "metadata": {
        "id": "a3IryhrD7B_X"
      },
      "source": [
        ""
      ],
      "id": "a3IryhrD7B_X",
      "execution_count": null,
      "outputs": []
    },
    {
      "cell_type": "markdown",
      "metadata": {
        "id": "C0-9wvsARZjm"
      },
      "source": [
        "##  ScikitLearn Has So Many Other ML Algos\n",
        "\n",
        "### k-Nearest Neighbors"
      ],
      "id": "C0-9wvsARZjm"
    },
    {
      "cell_type": "code",
      "metadata": {
        "id": "teH5aQihR3-p",
        "colab": {
          "base_uri": "https://localhost:8080/"
        },
        "outputId": "8ebeb9ee-7563-4530-806d-e61b10512ed0"
      },
      "source": [
        "from sklearn.neighbors import KNeighborsClassifier\n",
        "neigh = KNeighborsClassifier(n_neighbors=3)\n",
        "\n",
        "\n",
        "df = dfm.copy()\n",
        "df.amount = np.log10(df.amount)\n",
        "x = df.loc[:,['creditscore','amount','age','marital','health_ins']].values\n",
        "y = df.loc[:,'accepted'].values\n",
        "\n",
        "X_train, X_test, y_train, y_test = train_test_split(x, y, test_size=0.2, random_state=1)\n",
        "\n",
        "neigh.fit(X_train, y_train)\n",
        "neigh.score(X_test, y_test)"
      ],
      "id": "teH5aQihR3-p",
      "execution_count": 36,
      "outputs": [
        {
          "output_type": "execute_result",
          "data": {
            "text/plain": [
              "0.911"
            ]
          },
          "metadata": {},
          "execution_count": 36
        }
      ]
    },
    {
      "cell_type": "markdown",
      "metadata": {
        "id": "XFHIc9MzTjZZ"
      },
      "source": [
        "### Perceptron"
      ],
      "id": "XFHIc9MzTjZZ"
    },
    {
      "cell_type": "code",
      "metadata": {
        "id": "DIsSlslASklO",
        "colab": {
          "base_uri": "https://localhost:8080/"
        },
        "outputId": "a47e9de1-0f79-454f-c37d-7e9a31f90d71"
      },
      "source": [
        "from sklearn.linear_model import Perceptron\n",
        "clf = Perceptron(tol=1e-3, random_state=0)\n",
        "clf.fit(X_train, y_train)\n",
        "clf.score(X_test, y_test)"
      ],
      "id": "DIsSlslASklO",
      "execution_count": 37,
      "outputs": [
        {
          "output_type": "execute_result",
          "data": {
            "text/plain": [
              "0.9543333333333334"
            ]
          },
          "metadata": {},
          "execution_count": 37
        }
      ]
    },
    {
      "cell_type": "markdown",
      "metadata": {
        "id": "D0WixpUEUHpi"
      },
      "source": [
        " ### SGD Classifier\n",
        " Regularized linear models with stochastic gradient descent (SGD) learning"
      ],
      "id": "D0WixpUEUHpi"
    },
    {
      "cell_type": "code",
      "metadata": {
        "id": "hlJmRut-TO7m",
        "colab": {
          "base_uri": "https://localhost:8080/"
        },
        "outputId": "7ab707da-d8e8-45c5-f60c-61814fcd5b5d"
      },
      "source": [
        "from sklearn.linear_model import SGDClassifier\n",
        "from sklearn.preprocessing import StandardScaler\n",
        "from sklearn.pipeline import make_pipeline\n",
        "clf = make_pipeline(StandardScaler(),SGDClassifier(max_iter=1000, tol=1e-3))\n",
        "clf.fit(X_train, y_train)\n",
        "clf.score(X_test, y_test)"
      ],
      "id": "hlJmRut-TO7m",
      "execution_count": 38,
      "outputs": [
        {
          "output_type": "execute_result",
          "data": {
            "text/plain": [
              "0.9643333333333334"
            ]
          },
          "metadata": {},
          "execution_count": 38
        }
      ]
    },
    {
      "cell_type": "markdown",
      "metadata": {
        "id": "OGAHWr5woDYE"
      },
      "source": [
        "### Artificial Neural Network (One Layer)"
      ],
      "id": "OGAHWr5woDYE"
    },
    {
      "cell_type": "code",
      "metadata": {
        "id": "Jt1t6f7tUo88"
      },
      "source": [
        "from tensorflow.keras.models import Sequential\n",
        "from tensorflow.keras.layers import Dense"
      ],
      "id": "Jt1t6f7tUo88",
      "execution_count": 39,
      "outputs": []
    },
    {
      "cell_type": "code",
      "metadata": {
        "id": "gK1inQfKUpXQ",
        "colab": {
          "base_uri": "https://localhost:8080/"
        },
        "outputId": "bb354626-7a97-4d56-ecbe-37b570e8a2ba"
      },
      "source": [
        "number_of_classes = 1\n",
        "number_of_features = 5\n",
        "model = Sequential()\n",
        "model.add(Dense(number_of_classes,activation = 'sigmoid',input_dim = number_of_features))\n",
        "model.compile(optimizer='adam', loss='binary_crossentropy')\n",
        "model.fit(X_train, y_train, epochs=100, verbose=0, validation_data=(X_test, y_test))"
      ],
      "id": "gK1inQfKUpXQ",
      "execution_count": 40,
      "outputs": [
        {
          "output_type": "execute_result",
          "data": {
            "text/plain": [
              "<keras.callbacks.History at 0x7f800333f110>"
            ]
          },
          "metadata": {},
          "execution_count": 40
        }
      ]
    },
    {
      "cell_type": "code",
      "metadata": {
        "id": "WywUvE5FVUbo",
        "colab": {
          "base_uri": "https://localhost:8080/"
        },
        "outputId": "5cfe6f5c-d594-48f4-8e68-97dbb4f20c41"
      },
      "source": [
        "model.summary()"
      ],
      "id": "WywUvE5FVUbo",
      "execution_count": 41,
      "outputs": [
        {
          "output_type": "stream",
          "name": "stdout",
          "text": [
            "Model: \"sequential\"\n",
            "_________________________________________________________________\n",
            " Layer (type)                Output Shape              Param #   \n",
            "=================================================================\n",
            " dense (Dense)               (None, 1)                 6         \n",
            "                                                                 \n",
            "=================================================================\n",
            "Total params: 6\n",
            "Trainable params: 6\n",
            "Non-trainable params: 0\n",
            "_________________________________________________________________\n"
          ]
        }
      ]
    },
    {
      "cell_type": "code",
      "metadata": {
        "id": "mpa109RRWKiH",
        "colab": {
          "base_uri": "https://localhost:8080/"
        },
        "outputId": "8ed045cf-4476-41af-95d9-0771cdfc5594"
      },
      "source": [
        "y_predict = model.predict(X_test)\n",
        "y_predict[y_predict>=0.5] = 1\n",
        "y_predict[y_predict<0.5] = 0\n",
        "\n",
        "cm1 = confusion_matrix(y_test,y_predict)\n",
        "print('Confusion Matrix : \\n', cm1)\n",
        "total1=sum(sum(cm1))\n",
        "#####from confusion matrix calculate accuracy\n",
        "accuracy1=(cm1[0,0]+cm1[1,1])/total1\n",
        "print ('Accuracy : ', accuracy1)\n",
        "\n",
        "sensitivity1 = cm1[0,0]/(cm1[0,0]+cm1[0,1])\n",
        "print('Sensitivity : ', sensitivity1 )\n",
        "\n",
        "specificity1 = cm1[1,1]/(cm1[1,0]+cm1[1,1])\n",
        "print('Specificity : ', specificity1)"
      ],
      "id": "mpa109RRWKiH",
      "execution_count": 42,
      "outputs": [
        {
          "output_type": "stream",
          "name": "stdout",
          "text": [
            "Confusion Matrix : \n",
            " [[1335   96]\n",
            " [  15 1554]]\n",
            "Accuracy :  0.963\n",
            "Sensitivity :  0.9329140461215933\n",
            "Specificity :  0.9904397705544933\n"
          ]
        }
      ]
    },
    {
      "cell_type": "markdown",
      "metadata": {
        "id": "lQpUEgdpoQ58"
      },
      "source": [
        "### Artificial Neural Network (Three Layers)"
      ],
      "id": "lQpUEgdpoQ58"
    },
    {
      "cell_type": "code",
      "metadata": {
        "id": "rt4XhsUuXLlv"
      },
      "source": [
        "from tensorflow.keras.layers import Input, Dense, Activation,Dropout\n",
        "from tensorflow.keras.models import Model\n",
        "\n",
        "input_layer = Input(shape=(X_train.shape[1],))\n",
        "dense_layer_1 = Dense(6, activation='sigmoid')(input_layer)\n",
        "dense_layer_2 = Dense(6, activation='sigmoid')(dense_layer_1)\n",
        "output = Dense(1, activation='sigmoid')(dense_layer_2)"
      ],
      "id": "rt4XhsUuXLlv",
      "execution_count": 43,
      "outputs": []
    },
    {
      "cell_type": "code",
      "metadata": {
        "id": "qFA402c9g-hc",
        "colab": {
          "base_uri": "https://localhost:8080/"
        },
        "outputId": "857d7c8d-aec4-4333-bed5-3a6ffbe62321"
      },
      "source": [
        "model = Model(inputs=input_layer, outputs=output)\n",
        "model.compile(optimizer='adam', loss='binary_crossentropy')\n",
        "print(model.summary())"
      ],
      "id": "qFA402c9g-hc",
      "execution_count": 44,
      "outputs": [
        {
          "output_type": "stream",
          "name": "stdout",
          "text": [
            "Model: \"model\"\n",
            "_________________________________________________________________\n",
            " Layer (type)                Output Shape              Param #   \n",
            "=================================================================\n",
            " input_1 (InputLayer)        [(None, 5)]               0         \n",
            "                                                                 \n",
            " dense_1 (Dense)             (None, 6)                 36        \n",
            "                                                                 \n",
            " dense_2 (Dense)             (None, 6)                 42        \n",
            "                                                                 \n",
            " dense_3 (Dense)             (None, 1)                 7         \n",
            "                                                                 \n",
            "=================================================================\n",
            "Total params: 85\n",
            "Trainable params: 85\n",
            "Non-trainable params: 0\n",
            "_________________________________________________________________\n",
            "None\n"
          ]
        }
      ]
    },
    {
      "cell_type": "code",
      "metadata": {
        "id": "biy_KoNJjM6T"
      },
      "source": [
        "from tensorflow.keras.layers import Normalization\n",
        "layer = Normalization(axis=-1)\n",
        "layer.adapt(X_train)\n",
        "X_train_n = layer(X_train)\n",
        "X_test_n = layer(X_test)"
      ],
      "id": "biy_KoNJjM6T",
      "execution_count": 45,
      "outputs": []
    },
    {
      "cell_type": "code",
      "metadata": {
        "id": "F7ZRBqwblMkO",
        "colab": {
          "base_uri": "https://localhost:8080/"
        },
        "outputId": "89a13f67-c74c-40c6-a6b4-b0b596a6db3d"
      },
      "source": [
        "history = model.fit(X_train_n, y_train, epochs=50, verbose=0, validation_data=(X_test_n, y_test))\n",
        "\n",
        "y_predict = model.predict(X_test_n)\n",
        "y_predict[y_predict>=0.5] = 1\n",
        "y_predict[y_predict<0.5] = 0\n",
        "\n",
        "cm1 = confusion_matrix(y_test,y_predict)\n",
        "print('Confusion Matrix : \\n', cm1)\n",
        "total1=sum(sum(cm1))\n",
        "#####from confusion matrix calculate accuracy\n",
        "accuracy1=(cm1[0,0]+cm1[1,1])/total1\n",
        "print ('Accuracy : ', accuracy1)\n",
        "\n",
        "sensitivity1 = cm1[0,0]/(cm1[0,0]+cm1[0,1])\n",
        "print('Sensitivity : ', sensitivity1 )\n",
        "\n",
        "specificity1 = cm1[1,1]/(cm1[1,0]+cm1[1,1])\n",
        "print('Specificity : ', specificity1)"
      ],
      "id": "F7ZRBqwblMkO",
      "execution_count": 46,
      "outputs": [
        {
          "output_type": "stream",
          "name": "stdout",
          "text": [
            "Confusion Matrix : \n",
            " [[1391   40]\n",
            " [   5 1564]]\n",
            "Accuracy :  0.985\n",
            "Sensitivity :  0.9720475192173306\n",
            "Specificity :  0.9968132568514978\n"
          ]
        }
      ]
    }
  ]
}